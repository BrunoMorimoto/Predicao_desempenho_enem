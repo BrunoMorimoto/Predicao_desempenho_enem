{
 "cells": [
  {
   "cell_type": "markdown",
   "metadata": {},
   "source": [
    "# **`Predição de Desempenho no Enem`**\n",
    "\n",
    "Neste projeto, desenvolvemos um modelo preditivo para estimar a nota média dos candidatos do ENEM 2021 com base em suas características socioeconômicas. Utilizamos um conjunto de dados com 168.979 observações e 76 variáveis explicativas, aplicando técnicas de Machine Learning para obter a melhor performance preditiva.\n",
    "\n",
    "O objetivo principal foi minimizar o erro do modelo, garantindo alta precisão para possíveis aplicações em uma página web. Para isso, realizamos tratamento de dados, seleção de features e treinamento de modelos.\n",
    "\n",
    "-----------------------------------------------------------------------------------------------------------------------------------------------------"
   ]
  },
  {
   "cell_type": "markdown",
   "metadata": {},
   "source": [
    "## 1. Import das bibliotecas"
   ]
  },
  {
   "cell_type": "code",
   "execution_count": 1,
   "metadata": {},
   "outputs": [
    {
     "name": "stderr",
     "output_type": "stream",
     "text": [
      "c:\\Users\\bruno\\AppData\\Local\\Programs\\Python\\Python313\\Lib\\site-packages\\tqdm\\auto.py:21: TqdmWarning: IProgress not found. Please update jupyter and ipywidgets. See https://ipywidgets.readthedocs.io/en/stable/user_install.html\n",
      "  from .autonotebook import tqdm as notebook_tqdm\n"
     ]
    }
   ],
   "source": [
    "import pandas as pd\n",
    "import numpy as np\n",
    "from sklearn.preprocessing import LabelEncoder, OneHotEncoder, StandardScaler\n",
    "import matplotlib.pyplot as plt\n",
    "import seaborn as sns\n",
    "from scipy.stats import skew, kurtosis\n",
    "from sklearn.model_selection import train_test_split, cross_val_score, KFold, RandomizedSearchCV\n",
    "from feature_engine.encoding import MeanEncoder\n",
    "import joblib\n",
    "import xgboost as xgb\n",
    "import pickle\n",
    "from hyperopt import fmin, tpe, hp, STATUS_OK, Trials\n",
    "from sklearn.metrics import mean_squared_error, r2_score, mean_absolute_error\n",
    "from sklearn.tree import DecisionTreeRegressor\n",
    "from sklearn.ensemble import RandomForestRegressor, GradientBoostingRegressor, ExtraTreesRegressor, HistGradientBoostingRegressor\n",
    "from boruta import BorutaPy\n",
    "import shap\n",
    "import warnings\n",
    "warnings.filterwarnings(\"ignore\")"
   ]
  },
  {
   "cell_type": "markdown",
   "metadata": {},
   "source": [
    "## 2. Pré-Processamento de Dados"
   ]
  },
  {
   "cell_type": "markdown",
   "metadata": {},
   "source": [
    "### 2.1 Leitura da base de dados"
   ]
  },
  {
   "cell_type": "code",
   "execution_count": 2,
   "metadata": {},
   "outputs": [
    {
     "data": {
      "text/html": [
       "<div>\n",
       "<style scoped>\n",
       "    .dataframe tbody tr th:only-of-type {\n",
       "        vertical-align: middle;\n",
       "    }\n",
       "\n",
       "    .dataframe tbody tr th {\n",
       "        vertical-align: top;\n",
       "    }\n",
       "\n",
       "    .dataframe thead th {\n",
       "        text-align: right;\n",
       "    }\n",
       "</style>\n",
       "<table border=\"1\" class=\"dataframe\">\n",
       "  <thead>\n",
       "    <tr style=\"text-align: right;\">\n",
       "      <th></th>\n",
       "      <th>NU_INSCRICAO</th>\n",
       "      <th>NU_ANO</th>\n",
       "      <th>TP_FAIXA_ETARIA</th>\n",
       "      <th>TP_SEXO</th>\n",
       "      <th>TP_ESTADO_CIVIL</th>\n",
       "      <th>TP_COR_RACA</th>\n",
       "      <th>TP_NACIONALIDADE</th>\n",
       "      <th>TP_ST_CONCLUSAO</th>\n",
       "      <th>TP_ANO_CONCLUIU</th>\n",
       "      <th>TP_ESCOLA</th>\n",
       "      <th>...</th>\n",
       "      <th>Q017</th>\n",
       "      <th>Q018</th>\n",
       "      <th>Q019</th>\n",
       "      <th>Q020</th>\n",
       "      <th>Q021</th>\n",
       "      <th>Q022</th>\n",
       "      <th>Q023</th>\n",
       "      <th>Q024</th>\n",
       "      <th>Q025</th>\n",
       "      <th>NU_MEDIA</th>\n",
       "    </tr>\n",
       "  </thead>\n",
       "  <tbody>\n",
       "    <tr>\n",
       "      <th>0</th>\n",
       "      <td>210054403757</td>\n",
       "      <td>2021</td>\n",
       "      <td>14</td>\n",
       "      <td>M</td>\n",
       "      <td>2</td>\n",
       "      <td>3</td>\n",
       "      <td>1</td>\n",
       "      <td>1</td>\n",
       "      <td>15</td>\n",
       "      <td>1</td>\n",
       "      <td>...</td>\n",
       "      <td>A</td>\n",
       "      <td>A</td>\n",
       "      <td>B</td>\n",
       "      <td>A</td>\n",
       "      <td>A</td>\n",
       "      <td>B</td>\n",
       "      <td>A</td>\n",
       "      <td>A</td>\n",
       "      <td>A</td>\n",
       "      <td>NaN</td>\n",
       "    </tr>\n",
       "    <tr>\n",
       "      <th>1</th>\n",
       "      <td>210053662224</td>\n",
       "      <td>2021</td>\n",
       "      <td>5</td>\n",
       "      <td>F</td>\n",
       "      <td>1</td>\n",
       "      <td>3</td>\n",
       "      <td>1</td>\n",
       "      <td>1</td>\n",
       "      <td>4</td>\n",
       "      <td>1</td>\n",
       "      <td>...</td>\n",
       "      <td>A</td>\n",
       "      <td>A</td>\n",
       "      <td>B</td>\n",
       "      <td>A</td>\n",
       "      <td>A</td>\n",
       "      <td>C</td>\n",
       "      <td>A</td>\n",
       "      <td>B</td>\n",
       "      <td>B</td>\n",
       "      <td>546.56</td>\n",
       "    </tr>\n",
       "    <tr>\n",
       "      <th>2</th>\n",
       "      <td>210053154359</td>\n",
       "      <td>2021</td>\n",
       "      <td>14</td>\n",
       "      <td>F</td>\n",
       "      <td>0</td>\n",
       "      <td>3</td>\n",
       "      <td>1</td>\n",
       "      <td>1</td>\n",
       "      <td>12</td>\n",
       "      <td>1</td>\n",
       "      <td>...</td>\n",
       "      <td>A</td>\n",
       "      <td>A</td>\n",
       "      <td>B</td>\n",
       "      <td>A</td>\n",
       "      <td>A</td>\n",
       "      <td>B</td>\n",
       "      <td>A</td>\n",
       "      <td>A</td>\n",
       "      <td>A</td>\n",
       "      <td>431.38</td>\n",
       "    </tr>\n",
       "    <tr>\n",
       "      <th>3</th>\n",
       "      <td>210054036560</td>\n",
       "      <td>2021</td>\n",
       "      <td>3</td>\n",
       "      <td>F</td>\n",
       "      <td>1</td>\n",
       "      <td>4</td>\n",
       "      <td>1</td>\n",
       "      <td>2</td>\n",
       "      <td>0</td>\n",
       "      <td>2</td>\n",
       "      <td>...</td>\n",
       "      <td>A</td>\n",
       "      <td>A</td>\n",
       "      <td>B</td>\n",
       "      <td>A</td>\n",
       "      <td>A</td>\n",
       "      <td>C</td>\n",
       "      <td>A</td>\n",
       "      <td>A</td>\n",
       "      <td>B</td>\n",
       "      <td>565.80</td>\n",
       "    </tr>\n",
       "    <tr>\n",
       "      <th>4</th>\n",
       "      <td>210051462654</td>\n",
       "      <td>2021</td>\n",
       "      <td>2</td>\n",
       "      <td>F</td>\n",
       "      <td>1</td>\n",
       "      <td>4</td>\n",
       "      <td>1</td>\n",
       "      <td>2</td>\n",
       "      <td>0</td>\n",
       "      <td>3</td>\n",
       "      <td>...</td>\n",
       "      <td>A</td>\n",
       "      <td>A</td>\n",
       "      <td>E</td>\n",
       "      <td>A</td>\n",
       "      <td>A</td>\n",
       "      <td>E</td>\n",
       "      <td>A</td>\n",
       "      <td>B</td>\n",
       "      <td>B</td>\n",
       "      <td>576.12</td>\n",
       "    </tr>\n",
       "  </tbody>\n",
       "</table>\n",
       "<p>5 rows × 77 columns</p>\n",
       "</div>"
      ],
      "text/plain": [
       "   NU_INSCRICAO  NU_ANO  TP_FAIXA_ETARIA TP_SEXO  TP_ESTADO_CIVIL  \\\n",
       "0  210054403757    2021               14       M                2   \n",
       "1  210053662224    2021                5       F                1   \n",
       "2  210053154359    2021               14       F                0   \n",
       "3  210054036560    2021                3       F                1   \n",
       "4  210051462654    2021                2       F                1   \n",
       "\n",
       "   TP_COR_RACA  TP_NACIONALIDADE  TP_ST_CONCLUSAO  TP_ANO_CONCLUIU  TP_ESCOLA  \\\n",
       "0            3                 1                1               15          1   \n",
       "1            3                 1                1                4          1   \n",
       "2            3                 1                1               12          1   \n",
       "3            4                 1                2                0          2   \n",
       "4            4                 1                2                0          3   \n",
       "\n",
       "   ...  Q017  Q018  Q019 Q020  Q021 Q022  Q023  Q024  Q025  NU_MEDIA  \n",
       "0  ...     A     A     B    A     A    B     A     A     A       NaN  \n",
       "1  ...     A     A     B    A     A    C     A     B     B    546.56  \n",
       "2  ...     A     A     B    A     A    B     A     A     A    431.38  \n",
       "3  ...     A     A     B    A     A    C     A     A     B    565.80  \n",
       "4  ...     A     A     E    A     A    E     A     B     B    576.12  \n",
       "\n",
       "[5 rows x 77 columns]"
      ]
     },
     "execution_count": 2,
     "metadata": {},
     "output_type": "execute_result"
    }
   ],
   "source": [
    "dataset_enem = pd.read_csv(\"C:\\\\Users\\\\bruno\\\\OneDrive\\\\Desktop\\\\Modelos\\\\desempenho_enem\\\\Base de dados do Enem.csv\")\n",
    "dataset_enem.head()"
   ]
  },
  {
   "cell_type": "markdown",
   "metadata": {},
   "source": [
    "### 2.2 Seleção das Variáveis Iniciais\n",
    "O dataset inicial possui 76 variáveis e o desfecho (motivo da predição) que é a variável 'NU_MEDIA' **nota média de desempenho do aluno no Enem de 2021**.\n",
    "\n",
    "A seleção de variáveis foi realizada com o objetivo de diminuir a quantidade de features para a modelagem, analisando como cada variável pode impactar o desfecho e **retirando as variáveis** que estão **intrinsecamente relacionadas com a nota média de desempenho**, que são as notas individuais em cada área de conhecimento da prova."
   ]
  },
  {
   "cell_type": "code",
   "execution_count": 3,
   "metadata": {},
   "outputs": [
    {
     "data": {
      "text/html": [
       "<div>\n",
       "<style scoped>\n",
       "    .dataframe tbody tr th:only-of-type {\n",
       "        vertical-align: middle;\n",
       "    }\n",
       "\n",
       "    .dataframe tbody tr th {\n",
       "        vertical-align: top;\n",
       "    }\n",
       "\n",
       "    .dataframe thead th {\n",
       "        text-align: right;\n",
       "    }\n",
       "</style>\n",
       "<table border=\"1\" class=\"dataframe\">\n",
       "  <thead>\n",
       "    <tr style=\"text-align: right;\">\n",
       "      <th></th>\n",
       "      <th>TP_FAIXA_ETARIA</th>\n",
       "      <th>TP_ESTADO_CIVIL</th>\n",
       "      <th>TP_NACIONALIDADE</th>\n",
       "      <th>TP_ST_CONCLUSAO</th>\n",
       "      <th>TP_ANO_CONCLUIU</th>\n",
       "      <th>TP_ESCOLA</th>\n",
       "      <th>TP_ENSINO</th>\n",
       "      <th>TP_DEPENDENCIA_ADM_ESC</th>\n",
       "      <th>TP_LOCALIZACAO_ESC</th>\n",
       "      <th>TP_PRESENCA_CN</th>\n",
       "      <th>...</th>\n",
       "      <th>Q017</th>\n",
       "      <th>Q018</th>\n",
       "      <th>Q019</th>\n",
       "      <th>Q020</th>\n",
       "      <th>Q021</th>\n",
       "      <th>Q022</th>\n",
       "      <th>Q023</th>\n",
       "      <th>Q024</th>\n",
       "      <th>Q025</th>\n",
       "      <th>NU_MEDIA</th>\n",
       "    </tr>\n",
       "  </thead>\n",
       "  <tbody>\n",
       "    <tr>\n",
       "      <th>0</th>\n",
       "      <td>14</td>\n",
       "      <td>2</td>\n",
       "      <td>1</td>\n",
       "      <td>1</td>\n",
       "      <td>15</td>\n",
       "      <td>1</td>\n",
       "      <td>NaN</td>\n",
       "      <td>NaN</td>\n",
       "      <td>NaN</td>\n",
       "      <td>0</td>\n",
       "      <td>...</td>\n",
       "      <td>A</td>\n",
       "      <td>A</td>\n",
       "      <td>B</td>\n",
       "      <td>A</td>\n",
       "      <td>A</td>\n",
       "      <td>B</td>\n",
       "      <td>A</td>\n",
       "      <td>A</td>\n",
       "      <td>A</td>\n",
       "      <td>NaN</td>\n",
       "    </tr>\n",
       "    <tr>\n",
       "      <th>1</th>\n",
       "      <td>5</td>\n",
       "      <td>1</td>\n",
       "      <td>1</td>\n",
       "      <td>1</td>\n",
       "      <td>4</td>\n",
       "      <td>1</td>\n",
       "      <td>NaN</td>\n",
       "      <td>NaN</td>\n",
       "      <td>NaN</td>\n",
       "      <td>1</td>\n",
       "      <td>...</td>\n",
       "      <td>A</td>\n",
       "      <td>A</td>\n",
       "      <td>B</td>\n",
       "      <td>A</td>\n",
       "      <td>A</td>\n",
       "      <td>C</td>\n",
       "      <td>A</td>\n",
       "      <td>B</td>\n",
       "      <td>B</td>\n",
       "      <td>546.56</td>\n",
       "    </tr>\n",
       "    <tr>\n",
       "      <th>2</th>\n",
       "      <td>14</td>\n",
       "      <td>0</td>\n",
       "      <td>1</td>\n",
       "      <td>1</td>\n",
       "      <td>12</td>\n",
       "      <td>1</td>\n",
       "      <td>NaN</td>\n",
       "      <td>NaN</td>\n",
       "      <td>NaN</td>\n",
       "      <td>1</td>\n",
       "      <td>...</td>\n",
       "      <td>A</td>\n",
       "      <td>A</td>\n",
       "      <td>B</td>\n",
       "      <td>A</td>\n",
       "      <td>A</td>\n",
       "      <td>B</td>\n",
       "      <td>A</td>\n",
       "      <td>A</td>\n",
       "      <td>A</td>\n",
       "      <td>431.38</td>\n",
       "    </tr>\n",
       "    <tr>\n",
       "      <th>3</th>\n",
       "      <td>3</td>\n",
       "      <td>1</td>\n",
       "      <td>1</td>\n",
       "      <td>2</td>\n",
       "      <td>0</td>\n",
       "      <td>2</td>\n",
       "      <td>1.0</td>\n",
       "      <td>2.0</td>\n",
       "      <td>1.0</td>\n",
       "      <td>1</td>\n",
       "      <td>...</td>\n",
       "      <td>A</td>\n",
       "      <td>A</td>\n",
       "      <td>B</td>\n",
       "      <td>A</td>\n",
       "      <td>A</td>\n",
       "      <td>C</td>\n",
       "      <td>A</td>\n",
       "      <td>A</td>\n",
       "      <td>B</td>\n",
       "      <td>565.80</td>\n",
       "    </tr>\n",
       "    <tr>\n",
       "      <th>4</th>\n",
       "      <td>2</td>\n",
       "      <td>1</td>\n",
       "      <td>1</td>\n",
       "      <td>2</td>\n",
       "      <td>0</td>\n",
       "      <td>3</td>\n",
       "      <td>1.0</td>\n",
       "      <td>4.0</td>\n",
       "      <td>1.0</td>\n",
       "      <td>1</td>\n",
       "      <td>...</td>\n",
       "      <td>A</td>\n",
       "      <td>A</td>\n",
       "      <td>E</td>\n",
       "      <td>A</td>\n",
       "      <td>A</td>\n",
       "      <td>E</td>\n",
       "      <td>A</td>\n",
       "      <td>B</td>\n",
       "      <td>B</td>\n",
       "      <td>576.12</td>\n",
       "    </tr>\n",
       "  </tbody>\n",
       "</table>\n",
       "<p>5 rows × 40 columns</p>\n",
       "</div>"
      ],
      "text/plain": [
       "   TP_FAIXA_ETARIA  TP_ESTADO_CIVIL  TP_NACIONALIDADE  TP_ST_CONCLUSAO  \\\n",
       "0               14                2                 1                1   \n",
       "1                5                1                 1                1   \n",
       "2               14                0                 1                1   \n",
       "3                3                1                 1                2   \n",
       "4                2                1                 1                2   \n",
       "\n",
       "   TP_ANO_CONCLUIU  TP_ESCOLA  TP_ENSINO  TP_DEPENDENCIA_ADM_ESC  \\\n",
       "0               15          1        NaN                     NaN   \n",
       "1                4          1        NaN                     NaN   \n",
       "2               12          1        NaN                     NaN   \n",
       "3                0          2        1.0                     2.0   \n",
       "4                0          3        1.0                     4.0   \n",
       "\n",
       "   TP_LOCALIZACAO_ESC  TP_PRESENCA_CN  ...  Q017  Q018  Q019  Q020 Q021 Q022  \\\n",
       "0                 NaN               0  ...     A     A     B     A    A    B   \n",
       "1                 NaN               1  ...     A     A     B     A    A    C   \n",
       "2                 NaN               1  ...     A     A     B     A    A    B   \n",
       "3                 1.0               1  ...     A     A     B     A    A    C   \n",
       "4                 1.0               1  ...     A     A     E     A    A    E   \n",
       "\n",
       "  Q023 Q024  Q025 NU_MEDIA  \n",
       "0    A    A     A      NaN  \n",
       "1    A    B     B   546.56  \n",
       "2    A    A     A   431.38  \n",
       "3    A    A     B   565.80  \n",
       "4    A    B     B   576.12  \n",
       "\n",
       "[5 rows x 40 columns]"
      ]
     },
     "execution_count": 3,
     "metadata": {},
     "output_type": "execute_result"
    }
   ],
   "source": [
    "variaveis_selecionadas = [\n",
    "    \"TP_FAIXA_ETARIA\", \"TP_ESTADO_CIVIL\", \"TP_NACIONALIDADE\", \"TP_ST_CONCLUSAO\",\n",
    "    \"TP_ANO_CONCLUIU\", \"TP_ESCOLA\", \"TP_ENSINO\", \"TP_DEPENDENCIA_ADM_ESC\",\n",
    "    \"TP_LOCALIZACAO_ESC\", \"TP_PRESENCA_CN\", \"TP_PRESENCA_CH\", \"TP_PRESENCA_LC\",\n",
    "    \"TP_PRESENCA_MT\", \"TP_LINGUA\", \"Q001\", \"Q002\", \"Q003\", \"Q004\", \"Q005\",\n",
    "    \"Q006\", \"Q007\", \"Q008\", \"Q009\", \"Q010\", \"Q011\", \"Q012\", \"Q013\", \"Q014\",\n",
    "    \"Q015\", \"Q016\", \"Q017\", \"Q018\", \"Q019\", \"Q020\", \"Q021\", \"Q022\", \"Q023\",\n",
    "    \"Q024\", \"Q025\",\"NU_MEDIA\"\n",
    "]\n",
    "\n",
    "df_enem_features = dataset_enem[variaveis_selecionadas]\n",
    "\n",
    "df_enem_features.head()"
   ]
  },
  {
   "cell_type": "markdown",
   "metadata": {},
   "source": [
    "### 2.3 **Dropando** as linhas do dataset quando o valor de **NU_MEDIA é nulo**"
   ]
  },
  {
   "cell_type": "code",
   "execution_count": 4,
   "metadata": {},
   "outputs": [],
   "source": [
    "df_enem_features_pronto = df_enem_features.dropna(subset=[\"NU_MEDIA\"])"
   ]
  },
  {
   "cell_type": "code",
   "execution_count": 5,
   "metadata": {},
   "outputs": [
    {
     "name": "stdout",
     "output_type": "stream",
     "text": [
      "<class 'pandas.core.frame.DataFrame'>\n",
      "Index: 110234 entries, 1 to 168977\n",
      "Data columns (total 40 columns):\n",
      " #   Column                  Non-Null Count   Dtype  \n",
      "---  ------                  --------------   -----  \n",
      " 0   TP_FAIXA_ETARIA         110234 non-null  int64  \n",
      " 1   TP_ESTADO_CIVIL         110234 non-null  int64  \n",
      " 2   TP_NACIONALIDADE        110234 non-null  int64  \n",
      " 3   TP_ST_CONCLUSAO         110234 non-null  int64  \n",
      " 4   TP_ANO_CONCLUIU         110234 non-null  int64  \n",
      " 5   TP_ESCOLA               110234 non-null  int64  \n",
      " 6   TP_ENSINO               40416 non-null   float64\n",
      " 7   TP_DEPENDENCIA_ADM_ESC  29619 non-null   float64\n",
      " 8   TP_LOCALIZACAO_ESC      29619 non-null   float64\n",
      " 9   TP_PRESENCA_CN          110234 non-null  int64  \n",
      " 10  TP_PRESENCA_CH          110234 non-null  int64  \n",
      " 11  TP_PRESENCA_LC          110234 non-null  int64  \n",
      " 12  TP_PRESENCA_MT          110234 non-null  int64  \n",
      " 13  TP_LINGUA               110234 non-null  int64  \n",
      " 14  Q001                    110234 non-null  object \n",
      " 15  Q002                    110234 non-null  object \n",
      " 16  Q003                    110234 non-null  object \n",
      " 17  Q004                    110234 non-null  object \n",
      " 18  Q005                    110234 non-null  float64\n",
      " 19  Q006                    110234 non-null  object \n",
      " 20  Q007                    110234 non-null  object \n",
      " 21  Q008                    110234 non-null  object \n",
      " 22  Q009                    110234 non-null  object \n",
      " 23  Q010                    110234 non-null  object \n",
      " 24  Q011                    110234 non-null  object \n",
      " 25  Q012                    110234 non-null  object \n",
      " 26  Q013                    110234 non-null  object \n",
      " 27  Q014                    110234 non-null  object \n",
      " 28  Q015                    110234 non-null  object \n",
      " 29  Q016                    110234 non-null  object \n",
      " 30  Q017                    110234 non-null  object \n",
      " 31  Q018                    110234 non-null  object \n",
      " 32  Q019                    110234 non-null  object \n",
      " 33  Q020                    110234 non-null  object \n",
      " 34  Q021                    110234 non-null  object \n",
      " 35  Q022                    110234 non-null  object \n",
      " 36  Q023                    110234 non-null  object \n",
      " 37  Q024                    110234 non-null  object \n",
      " 38  Q025                    110234 non-null  object \n",
      " 39  NU_MEDIA                110234 non-null  float64\n",
      "dtypes: float64(5), int64(11), object(24)\n",
      "memory usage: 34.5+ MB\n"
     ]
    }
   ],
   "source": [
    "df_enem_features_pronto.info()"
   ]
  },
  {
   "cell_type": "markdown",
   "metadata": {},
   "source": [
    "### 2.4 **Dropando** as variáveis **TP_ENSINO, TP_DEPENDENCIA_ADM_ESC e TP_LOCALIZACAO_ESC** por possuírem um percentual muito alto de valores nulos."
   ]
  },
  {
   "cell_type": "code",
   "execution_count": 6,
   "metadata": {},
   "outputs": [
    {
     "name": "stdout",
     "output_type": "stream",
     "text": [
      "<class 'pandas.core.frame.DataFrame'>\n",
      "Index: 110234 entries, 1 to 168977\n",
      "Data columns (total 37 columns):\n",
      " #   Column            Non-Null Count   Dtype  \n",
      "---  ------            --------------   -----  \n",
      " 0   TP_FAIXA_ETARIA   110234 non-null  int64  \n",
      " 1   TP_ESTADO_CIVIL   110234 non-null  int64  \n",
      " 2   TP_NACIONALIDADE  110234 non-null  int64  \n",
      " 3   TP_ST_CONCLUSAO   110234 non-null  int64  \n",
      " 4   TP_ANO_CONCLUIU   110234 non-null  int64  \n",
      " 5   TP_ESCOLA         110234 non-null  int64  \n",
      " 6   TP_PRESENCA_CN    110234 non-null  int64  \n",
      " 7   TP_PRESENCA_CH    110234 non-null  int64  \n",
      " 8   TP_PRESENCA_LC    110234 non-null  int64  \n",
      " 9   TP_PRESENCA_MT    110234 non-null  int64  \n",
      " 10  TP_LINGUA         110234 non-null  int64  \n",
      " 11  Q001              110234 non-null  object \n",
      " 12  Q002              110234 non-null  object \n",
      " 13  Q003              110234 non-null  object \n",
      " 14  Q004              110234 non-null  object \n",
      " 15  Q005              110234 non-null  float64\n",
      " 16  Q006              110234 non-null  object \n",
      " 17  Q007              110234 non-null  object \n",
      " 18  Q008              110234 non-null  object \n",
      " 19  Q009              110234 non-null  object \n",
      " 20  Q010              110234 non-null  object \n",
      " 21  Q011              110234 non-null  object \n",
      " 22  Q012              110234 non-null  object \n",
      " 23  Q013              110234 non-null  object \n",
      " 24  Q014              110234 non-null  object \n",
      " 25  Q015              110234 non-null  object \n",
      " 26  Q016              110234 non-null  object \n",
      " 27  Q017              110234 non-null  object \n",
      " 28  Q018              110234 non-null  object \n",
      " 29  Q019              110234 non-null  object \n",
      " 30  Q020              110234 non-null  object \n",
      " 31  Q021              110234 non-null  object \n",
      " 32  Q022              110234 non-null  object \n",
      " 33  Q023              110234 non-null  object \n",
      " 34  Q024              110234 non-null  object \n",
      " 35  Q025              110234 non-null  object \n",
      " 36  NU_MEDIA          110234 non-null  float64\n",
      "dtypes: float64(2), int64(11), object(24)\n",
      "memory usage: 32.0+ MB\n"
     ]
    }
   ],
   "source": [
    "df_enem_features_pronto = df_enem_features_pronto.drop(columns=[\"TP_ENSINO\", \"TP_DEPENDENCIA_ADM_ESC\", \"TP_LOCALIZACAO_ESC\"])\n",
    "\n",
    "df_enem_features_pronto.info()"
   ]
  },
  {
   "cell_type": "markdown",
   "metadata": {},
   "source": [
    "### 2.5 Engenharia de Features\n",
    "\n",
    "Transformação de variáveis texto para numéricas, utilizando o **label encoder** onde a ideia é substituir categorias como 'Sim' e 'Não' por 1 e 0."
   ]
  },
  {
   "cell_type": "code",
   "execution_count": 7,
   "metadata": {},
   "outputs": [
    {
     "data": {
      "text/html": [
       "<div>\n",
       "<style scoped>\n",
       "    .dataframe tbody tr th:only-of-type {\n",
       "        vertical-align: middle;\n",
       "    }\n",
       "\n",
       "    .dataframe tbody tr th {\n",
       "        vertical-align: top;\n",
       "    }\n",
       "\n",
       "    .dataframe thead th {\n",
       "        text-align: right;\n",
       "    }\n",
       "</style>\n",
       "<table border=\"1\" class=\"dataframe\">\n",
       "  <thead>\n",
       "    <tr style=\"text-align: right;\">\n",
       "      <th></th>\n",
       "      <th>Q018</th>\n",
       "      <th>Q020</th>\n",
       "      <th>Q021</th>\n",
       "      <th>Q023</th>\n",
       "      <th>Q025</th>\n",
       "    </tr>\n",
       "  </thead>\n",
       "  <tbody>\n",
       "    <tr>\n",
       "      <th>1</th>\n",
       "      <td>0</td>\n",
       "      <td>0</td>\n",
       "      <td>0</td>\n",
       "      <td>0</td>\n",
       "      <td>1</td>\n",
       "    </tr>\n",
       "    <tr>\n",
       "      <th>2</th>\n",
       "      <td>0</td>\n",
       "      <td>0</td>\n",
       "      <td>0</td>\n",
       "      <td>0</td>\n",
       "      <td>0</td>\n",
       "    </tr>\n",
       "    <tr>\n",
       "      <th>3</th>\n",
       "      <td>0</td>\n",
       "      <td>0</td>\n",
       "      <td>0</td>\n",
       "      <td>0</td>\n",
       "      <td>1</td>\n",
       "    </tr>\n",
       "    <tr>\n",
       "      <th>4</th>\n",
       "      <td>0</td>\n",
       "      <td>0</td>\n",
       "      <td>0</td>\n",
       "      <td>0</td>\n",
       "      <td>1</td>\n",
       "    </tr>\n",
       "    <tr>\n",
       "      <th>5</th>\n",
       "      <td>0</td>\n",
       "      <td>0</td>\n",
       "      <td>0</td>\n",
       "      <td>0</td>\n",
       "      <td>1</td>\n",
       "    </tr>\n",
       "  </tbody>\n",
       "</table>\n",
       "</div>"
      ],
      "text/plain": [
       "   Q018  Q020  Q021  Q023  Q025\n",
       "1     0     0     0     0     1\n",
       "2     0     0     0     0     0\n",
       "3     0     0     0     0     1\n",
       "4     0     0     0     0     1\n",
       "5     0     0     0     0     1"
      ]
     },
     "execution_count": 7,
     "metadata": {},
     "output_type": "execute_result"
    }
   ],
   "source": [
    "# Criando o objeto LabelEncoder\n",
    "label_encoder = LabelEncoder()\n",
    "\n",
    "# Lista de colunas a serem transformadas\n",
    "colunas_label = [\"Q018\", \"Q020\", \"Q021\", \"Q023\", \"Q025\"]\n",
    "\n",
    "# Aplicando o LabelEncoder em cada coluna\n",
    "for col in colunas_label:\n",
    "    df_enem_features_pronto[col] = label_encoder.fit_transform(df_enem_features_pronto[col])\n",
    "\n",
    "# Verificando se as transformações foram aplicadas\n",
    "df_enem_features_pronto[colunas_label].head()"
   ]
  },
  {
   "cell_type": "markdown",
   "metadata": {},
   "source": [
    "Transformação de variáveis com categorias de A té E para numéricas\n",
    "\n",
    "Como as variáveis possuem uma ordem de grandeza dentro das próprias categorias, é trivial manter essa ordem de grandeza substituindo pelo número respectivo."
   ]
  },
  {
   "cell_type": "code",
   "execution_count": 8,
   "metadata": {},
   "outputs": [
    {
     "name": "stdout",
     "output_type": "stream",
     "text": [
      "   Q008  Q009  Q010  Q011  Q012  Q013  Q014  Q015  Q016  Q017  Q019  Q022  \\\n",
      "1     1     2     0     1     1     0     0     1     0     0     1     2   \n",
      "2     1     1     1     0     1     0     1     0     0     0     1     1   \n",
      "3     1     2     0     0     1     0     1     1     0     0     1     2   \n",
      "4     4     3     3     1     1     1     1     1     1     0     4     4   \n",
      "5     1     2     0     0     1     1     0     1     0     0     1     4   \n",
      "\n",
      "   Q024  \n",
      "1     1  \n",
      "2     0  \n",
      "3     0  \n",
      "4     1  \n",
      "5     0  \n"
     ]
    }
   ],
   "source": [
    "# Dicionário de mapeamento\n",
    "mapeamento = {'A': 0, 'B': 1, 'C': 2, 'D': 3, 'E': 4}\n",
    "\n",
    "# Lista de colunas para aplicar a substituição\n",
    "colunas = [\"Q008\", \"Q009\", \"Q010\", \"Q011\", \"Q012\", \"Q013\", \n",
    "           \"Q014\", \"Q015\", \"Q016\", \"Q017\", \"Q019\", \"Q022\", \"Q024\"]\n",
    "\n",
    "# Aplicando o mapeamento nas colunas selecionadas\n",
    "df_enem_features_pronto[colunas] = df_enem_features_pronto[colunas].replace(mapeamento)\n",
    "\n",
    "# Verificando as primeiras linhas para conferir a substituição\n",
    "print(df_enem_features_pronto[colunas].head())"
   ]
  },
  {
   "cell_type": "markdown",
   "metadata": {},
   "source": [
    "## 3. Data Splitting\n",
    "\n",
    "Como vamos iniciar o tratamento de variáveis utilizando transformações e scalers, devemos separar o nosso conjunto de dados em treino e teste para evitar vazamento de dados. Todos os scalers aplicados no treinamento, devem ser aplicados no teste antes da predição."
   ]
  },
  {
   "cell_type": "markdown",
   "metadata": {},
   "source": [
    "Como o desfecho é uma variável numérica, não podemos fazer a divisão treino e teste de maneira tradicional, estratificando a variável. **Então vamos analisar se 'NU_MEDIA' possui uma distribuição parecida com a normal. Caso isso ocorra, podemos fazer a divisão apenas de maneira aleatória**."
   ]
  },
  {
   "cell_type": "code",
   "execution_count": 9,
   "metadata": {},
   "outputs": [
    {
     "data": {
      "image/png": "[encoded data removed]",
      "text/plain": [
       "<Figure size 640x480 with 1 Axes>"
      ]
     },
     "metadata": {},
     "output_type": "display_data"
    }
   ],
   "source": [
    "plt.hist(df_enem_features_pronto[\"NU_MEDIA\"], bins=30, edgecolor=\"black\")\n",
    "plt.xlabel(\"NU_MEDIA\")\n",
    "plt.ylabel(\"Frequência\")\n",
    "plt.title(\"Distribuição do Desfecho (NU_MEDIA)\")\n",
    "plt.show()"
   ]
  },
  {
   "cell_type": "code",
   "execution_count": 10,
   "metadata": {},
   "outputs": [
    {
     "name": "stdout",
     "output_type": "stream",
     "text": [
      "Assimetria da variável NU_MEDIA: 0.2679862898665952\n",
      "Curtose da variável NU_MEDIA: -0.09708108320416997\n"
     ]
    }
   ],
   "source": [
    "print(\"Assimetria da variável NU_MEDIA:\", skew(df_enem_features_pronto[\"NU_MEDIA\"]))\n",
    "print(\"Curtose da variável NU_MEDIA:\", kurtosis(df_enem_features_pronto[\"NU_MEDIA\"]))"
   ]
  },
  {
   "cell_type": "code",
   "execution_count": 43,
   "metadata": {},
   "outputs": [
    {
     "name": "stdout",
     "output_type": "stream",
     "text": [
      "O desvio padrão da variável NU_MEDIA é: 88.80424985809748\n"
     ]
    }
   ],
   "source": [
    "# Calcular o desvio padrão\n",
    "std_dev = df_enem_features_pronto['NU_MEDIA'].std()\n",
    "print(\"O desvio padrão da variável NU_MEDIA é:\", std_dev)"
   ]
  },
  {
   "cell_type": "markdown",
   "metadata": {},
   "source": [
    "Valores de referêcia para a distribuição normal\n",
    "- Assimetria entre: -0.5 e 0.5\n",
    "- Curtose entre: -1 e 1\n",
    "\n",
    "**Logo o nosso desfecho possui uma distribuição parecida com a Normal e a divisão pode ser feita de maneira aleatória.**"
   ]
  },
  {
   "cell_type": "markdown",
   "metadata": {},
   "source": [
    "Resetando o index após as diversas transformações que foram realizadas, apenas como forma de garantia para divisão aleatória."
   ]
  },
  {
   "cell_type": "code",
   "execution_count": 11,
   "metadata": {},
   "outputs": [],
   "source": [
    "df_enem_features_pronto = df_enem_features_pronto.reset_index(drop=True)"
   ]
  },
  {
   "cell_type": "markdown",
   "metadata": {},
   "source": [
    "### 3.1 Divisão Treino, Validação e Teste"
   ]
  },
  {
   "cell_type": "code",
   "execution_count": 12,
   "metadata": {},
   "outputs": [],
   "source": [
    "# Defina as variáveis independentes (X) e a variável dependente (y)\n",
    "X = df_enem_features_pronto.drop(columns=[\"NU_MEDIA\"])  # Excluindo a variável target\n",
    "y = df_enem_features_pronto[\"NU_MEDIA\"]  # Variável target\n",
    "\n",
    "# Primeira divisão: treino e teste (70% treino, 30% teste)\n",
    "X_train, X_test, y_train, y_test = train_test_split(X, y, test_size=0.3, random_state=42)\n",
    "\n",
    "# Segunda divisão: teste e validação (50% teste, 50% validação)\n",
    "X_test, X_validation, y_test, y_validation = train_test_split(X_test, y_test, test_size=0.5, random_state=42)"
   ]
  },
  {
   "cell_type": "markdown",
   "metadata": {},
   "source": [
    "### 3.2 Aplicação do **OneHot Encoder**"
   ]
  },
  {
   "cell_type": "code",
   "execution_count": 13,
   "metadata": {},
   "outputs": [],
   "source": [
    "# Lista das colunas categóricas que serão transformadas\n",
    "colunas_categoricas = [\"Q001\", \"Q002\", \"Q003\", \"Q004\", \"Q007\"]\n",
    "\n",
    "# Inicializando o OneHotEncoder\n",
    "encoder = OneHotEncoder(sparse_output=False, drop='first')  # drop='first' evita multicolinearidade\n",
    "\n",
    "# Aplicando o encoder e transformando em DataFrame\n",
    "X_train_encoded = encoder.fit_transform(X_train[colunas_categoricas])\n",
    "\n",
    "# Criando um DataFrame com os novos nomes das colunas\n",
    "nomes_colunas = encoder.get_feature_names_out(colunas_categoricas)\n",
    "X_train_encoded = pd.DataFrame(X_train_encoded, columns=nomes_colunas, index=X_train.index)\n",
    "\n",
    "# Concatenando com o dataset original (removendo as colunas originais e adicionando as transformadas)\n",
    "X_train = X_train.drop(columns=colunas_categoricas)  # Remover as colunas originais\n",
    "X_train = pd.concat([X_train, X_train_encoded], axis=1)  # Concatenando as novas colunas"
   ]
  },
  {
   "cell_type": "markdown",
   "metadata": {},
   "source": [
    "### 3.3 Salvar OneHot Encoder para aplicação posterior"
   ]
  },
  {
   "cell_type": "code",
   "execution_count": 14,
   "metadata": {},
   "outputs": [
    {
     "name": "stdout",
     "output_type": "stream",
     "text": [
      "OneHotEncoder salvo em onehot_encoder_treino.pkl\n"
     ]
    }
   ],
   "source": [
    "# Caminho para salvar o encoder\n",
    "caminho_encoder = \"onehot_encoder_treino.pkl\"\n",
    "\n",
    "# Salvando o encoder treinado\n",
    "joblib.dump(encoder, caminho_encoder)\n",
    "\n",
    "print(f\"OneHotEncoder salvo em {caminho_encoder}\")"
   ]
  },
  {
   "cell_type": "markdown",
   "metadata": {},
   "source": [
    "### 3.4 Target Enconding"
   ]
  },
  {
   "cell_type": "code",
   "execution_count": 15,
   "metadata": {},
   "outputs": [
    {
     "name": "stdout",
     "output_type": "stream",
     "text": [
      "Categorias em X_train['Q006']:  Index(['A', 'B', 'C', 'D', 'E', 'F', 'G', 'H', 'I', 'J', 'K', 'L', 'M', 'N',\n",
      "       'O', 'P', 'Q'],\n",
      "      dtype='object')\n"
     ]
    }
   ],
   "source": [
    "X_train[\"Q006\"] = X_train[\"Q006\"].astype(\"category\")\n",
    "print(\"Categorias em X_train['Q006']: \", X_train[\"Q006\"].cat.categories)"
   ]
  },
  {
   "cell_type": "code",
   "execution_count": 16,
   "metadata": {},
   "outputs": [
    {
     "name": "stdout",
     "output_type": "stream",
     "text": [
      "39147     491.731987\n",
      "49964     576.862804\n",
      "81950     491.731987\n",
      "35836     491.731987\n",
      "107048    475.792182\n",
      "Name: Q006, dtype: float64\n"
     ]
    }
   ],
   "source": [
    "# Inicializando o MeanEncoder para a variável \"Q006\"\n",
    "encoder_target = MeanEncoder(variables=[\"Q006\"])\n",
    "\n",
    "# Aplicando o Target Encoding no treino\n",
    "X_train[\"Q006\"] = encoder_target.fit_transform(X_train[[\"Q006\"]], y_train)\n",
    "\n",
    "# Verificando os resultados\n",
    "print(X_train[\"Q006\"].head())"
   ]
  },
  {
   "cell_type": "markdown",
   "metadata": {},
   "source": [
    "### 3.5 Salvar Target Enconding para aplicação posterior"
   ]
  },
  {
   "cell_type": "code",
   "execution_count": 17,
   "metadata": {},
   "outputs": [
    {
     "name": "stdout",
     "output_type": "stream",
     "text": [
      "Target Encoder salvo como 'target_encoder_treino.pkl'\n"
     ]
    }
   ],
   "source": [
    "# Salvando o encoder treinado\n",
    "joblib.dump(encoder_target, \"target_encoder_treino.pkl\")\n",
    "\n",
    "print(\"Target Encoder salvo como 'target_encoder_treino.pkl'\")"
   ]
  },
  {
   "cell_type": "markdown",
   "metadata": {},
   "source": [
    "### 3.6 Aplicação do Standard Scaler\n",
    "\n",
    "Após transformar todas as variáveis em numéricas, vamos escalar essas variáveis para que possuam média 0 e desvio padrão igual a 1."
   ]
  },
  {
   "cell_type": "code",
   "execution_count": 18,
   "metadata": {},
   "outputs": [
    {
     "data": {
      "text/html": [
       "<div>\n",
       "<style scoped>\n",
       "    .dataframe tbody tr th:only-of-type {\n",
       "        vertical-align: middle;\n",
       "    }\n",
       "\n",
       "    .dataframe tbody tr th {\n",
       "        vertical-align: top;\n",
       "    }\n",
       "\n",
       "    .dataframe thead th {\n",
       "        text-align: right;\n",
       "    }\n",
       "</style>\n",
       "<table border=\"1\" class=\"dataframe\">\n",
       "  <thead>\n",
       "    <tr style=\"text-align: right;\">\n",
       "      <th></th>\n",
       "      <th>TP_FAIXA_ETARIA</th>\n",
       "      <th>TP_ESTADO_CIVIL</th>\n",
       "      <th>TP_NACIONALIDADE</th>\n",
       "      <th>TP_ST_CONCLUSAO</th>\n",
       "      <th>TP_ANO_CONCLUIU</th>\n",
       "      <th>TP_ESCOLA</th>\n",
       "      <th>TP_PRESENCA_CN</th>\n",
       "      <th>TP_PRESENCA_CH</th>\n",
       "      <th>TP_PRESENCA_LC</th>\n",
       "      <th>TP_PRESENCA_MT</th>\n",
       "      <th>...</th>\n",
       "      <th>Q003_E</th>\n",
       "      <th>Q003_F</th>\n",
       "      <th>Q004_B</th>\n",
       "      <th>Q004_C</th>\n",
       "      <th>Q004_D</th>\n",
       "      <th>Q004_E</th>\n",
       "      <th>Q004_F</th>\n",
       "      <th>Q007_B</th>\n",
       "      <th>Q007_C</th>\n",
       "      <th>Q007_D</th>\n",
       "    </tr>\n",
       "  </thead>\n",
       "  <tbody>\n",
       "    <tr>\n",
       "      <th>39147</th>\n",
       "      <td>0.409438</td>\n",
       "      <td>-0.095639</td>\n",
       "      <td>4.757511</td>\n",
       "      <td>-0.958775</td>\n",
       "      <td>-0.531180</td>\n",
       "      <td>-0.710021</td>\n",
       "      <td>0.0</td>\n",
       "      <td>0.0</td>\n",
       "      <td>0.0</td>\n",
       "      <td>0.0</td>\n",
       "      <td>...</td>\n",
       "      <td>-0.311098</td>\n",
       "      <td>-0.335840</td>\n",
       "      <td>-0.794122</td>\n",
       "      <td>-0.254764</td>\n",
       "      <td>-0.628229</td>\n",
       "      <td>-0.262577</td>\n",
       "      <td>-0.289843</td>\n",
       "      <td>-0.233975</td>\n",
       "      <td>-0.111707</td>\n",
       "      <td>-0.186251</td>\n",
       "    </tr>\n",
       "    <tr>\n",
       "      <th>49964</th>\n",
       "      <td>-0.711394</td>\n",
       "      <td>-0.095639</td>\n",
       "      <td>-0.129648</td>\n",
       "      <td>1.728986</td>\n",
       "      <td>-0.531180</td>\n",
       "      <td>-0.710021</td>\n",
       "      <td>0.0</td>\n",
       "      <td>0.0</td>\n",
       "      <td>0.0</td>\n",
       "      <td>0.0</td>\n",
       "      <td>...</td>\n",
       "      <td>-0.311098</td>\n",
       "      <td>-0.335840</td>\n",
       "      <td>-0.794122</td>\n",
       "      <td>-0.254764</td>\n",
       "      <td>1.591776</td>\n",
       "      <td>-0.262577</td>\n",
       "      <td>-0.289843</td>\n",
       "      <td>-0.233975</td>\n",
       "      <td>-0.111707</td>\n",
       "      <td>-0.186251</td>\n",
       "    </tr>\n",
       "    <tr>\n",
       "      <th>81950</th>\n",
       "      <td>-0.991602</td>\n",
       "      <td>-0.095639</td>\n",
       "      <td>-0.129648</td>\n",
       "      <td>1.728986</td>\n",
       "      <td>-0.531180</td>\n",
       "      <td>-0.710021</td>\n",
       "      <td>0.0</td>\n",
       "      <td>0.0</td>\n",
       "      <td>0.0</td>\n",
       "      <td>0.0</td>\n",
       "      <td>...</td>\n",
       "      <td>-0.311098</td>\n",
       "      <td>-0.335840</td>\n",
       "      <td>-0.794122</td>\n",
       "      <td>-0.254764</td>\n",
       "      <td>-0.628229</td>\n",
       "      <td>-0.262577</td>\n",
       "      <td>3.450147</td>\n",
       "      <td>-0.233975</td>\n",
       "      <td>-0.111707</td>\n",
       "      <td>-0.186251</td>\n",
       "    </tr>\n",
       "    <tr>\n",
       "      <th>35836</th>\n",
       "      <td>1.530269</td>\n",
       "      <td>-0.095639</td>\n",
       "      <td>4.757511</td>\n",
       "      <td>-0.958775</td>\n",
       "      <td>1.036497</td>\n",
       "      <td>-0.710021</td>\n",
       "      <td>0.0</td>\n",
       "      <td>0.0</td>\n",
       "      <td>0.0</td>\n",
       "      <td>0.0</td>\n",
       "      <td>...</td>\n",
       "      <td>-0.311098</td>\n",
       "      <td>-0.335840</td>\n",
       "      <td>1.259253</td>\n",
       "      <td>-0.254764</td>\n",
       "      <td>-0.628229</td>\n",
       "      <td>-0.262577</td>\n",
       "      <td>-0.289843</td>\n",
       "      <td>-0.233975</td>\n",
       "      <td>-0.111707</td>\n",
       "      <td>-0.186251</td>\n",
       "    </tr>\n",
       "    <tr>\n",
       "      <th>107048</th>\n",
       "      <td>-0.150978</td>\n",
       "      <td>2.679774</td>\n",
       "      <td>-0.129648</td>\n",
       "      <td>-0.958775</td>\n",
       "      <td>-0.269900</td>\n",
       "      <td>-0.710021</td>\n",
       "      <td>0.0</td>\n",
       "      <td>0.0</td>\n",
       "      <td>0.0</td>\n",
       "      <td>0.0</td>\n",
       "      <td>...</td>\n",
       "      <td>-0.311098</td>\n",
       "      <td>2.977605</td>\n",
       "      <td>-0.794122</td>\n",
       "      <td>-0.254764</td>\n",
       "      <td>-0.628229</td>\n",
       "      <td>-0.262577</td>\n",
       "      <td>-0.289843</td>\n",
       "      <td>-0.233975</td>\n",
       "      <td>-0.111707</td>\n",
       "      <td>-0.186251</td>\n",
       "    </tr>\n",
       "  </tbody>\n",
       "</table>\n",
       "<p>5 rows × 58 columns</p>\n",
       "</div>"
      ],
      "text/plain": [
       "        TP_FAIXA_ETARIA  TP_ESTADO_CIVIL  TP_NACIONALIDADE  TP_ST_CONCLUSAO  \\\n",
       "39147          0.409438        -0.095639          4.757511        -0.958775   \n",
       "49964         -0.711394        -0.095639         -0.129648         1.728986   \n",
       "81950         -0.991602        -0.095639         -0.129648         1.728986   \n",
       "35836          1.530269        -0.095639          4.757511        -0.958775   \n",
       "107048        -0.150978         2.679774         -0.129648        -0.958775   \n",
       "\n",
       "        TP_ANO_CONCLUIU  TP_ESCOLA  TP_PRESENCA_CN  TP_PRESENCA_CH  \\\n",
       "39147         -0.531180  -0.710021             0.0             0.0   \n",
       "49964         -0.531180  -0.710021             0.0             0.0   \n",
       "81950         -0.531180  -0.710021             0.0             0.0   \n",
       "35836          1.036497  -0.710021             0.0             0.0   \n",
       "107048        -0.269900  -0.710021             0.0             0.0   \n",
       "\n",
       "        TP_PRESENCA_LC  TP_PRESENCA_MT  ...    Q003_E    Q003_F    Q004_B  \\\n",
       "39147              0.0             0.0  ... -0.311098 -0.335840 -0.794122   \n",
       "49964              0.0             0.0  ... -0.311098 -0.335840 -0.794122   \n",
       "81950              0.0             0.0  ... -0.311098 -0.335840 -0.794122   \n",
       "35836              0.0             0.0  ... -0.311098 -0.335840  1.259253   \n",
       "107048             0.0             0.0  ... -0.311098  2.977605 -0.794122   \n",
       "\n",
       "          Q004_C    Q004_D    Q004_E    Q004_F    Q007_B    Q007_C    Q007_D  \n",
       "39147  -0.254764 -0.628229 -0.262577 -0.289843 -0.233975 -0.111707 -0.186251  \n",
       "49964  -0.254764  1.591776 -0.262577 -0.289843 -0.233975 -0.111707 -0.186251  \n",
       "81950  -0.254764 -0.628229 -0.262577  3.450147 -0.233975 -0.111707 -0.186251  \n",
       "35836  -0.254764 -0.628229 -0.262577 -0.289843 -0.233975 -0.111707 -0.186251  \n",
       "107048 -0.254764 -0.628229 -0.262577 -0.289843 -0.233975 -0.111707 -0.186251  \n",
       "\n",
       "[5 rows x 58 columns]"
      ]
     },
     "execution_count": 18,
     "metadata": {},
     "output_type": "execute_result"
    }
   ],
   "source": [
    "# Inicializando o StandardScaler\n",
    "scaler = StandardScaler()\n",
    "\n",
    "# Aplicando o fit_transform para ajustar e transformar os dados de X_train\n",
    "X_train_scaled = scaler.fit_transform(X_train)\n",
    "\n",
    "# Se você quiser transformar os dados novamente em um DataFrame com os mesmos nomes de colunas:\n",
    "X_train_scaled = pd.DataFrame(X_train_scaled, columns=X_train.columns, index=X_train.index)\n",
    "\n",
    "# Verificando os dados escalados\n",
    "X_train_scaled.head()"
   ]
  },
  {
   "cell_type": "markdown",
   "metadata": {},
   "source": [
    "### 3.7 Salvar Scaler para aplicação posterior"
   ]
  },
  {
   "cell_type": "code",
   "execution_count": 19,
   "metadata": {},
   "outputs": [
    {
     "name": "stdout",
     "output_type": "stream",
     "text": [
      "Standard Scaler salvo como 'standard_scaler_treinamento.pkl'\n"
     ]
    }
   ],
   "source": [
    "# Salvando o encoder treinado\n",
    "joblib.dump(scaler, \"standard_scaler_treinamento.pkl\")\n",
    "\n",
    "print(\"Standard Scaler salvo como 'standard_scaler_treinamento.pkl'\")"
   ]
  },
  {
   "cell_type": "markdown",
   "metadata": {},
   "source": [
    "## 4. Padronização dos Conjuntos de Dados de Validação e Teste\n",
    "\n",
    "Carregando OneHot Encoder, Target Enconding e Standard Scaler"
   ]
  },
  {
   "cell_type": "code",
   "execution_count": 20,
   "metadata": {},
   "outputs": [],
   "source": [
    "# Carregando os objetos salvos\n",
    "onehot = joblib.load(\"onehot_encoder_treino.pkl\")\n",
    "target_encoder = joblib.load(\"target_encoder_treino.pkl\")\n",
    "standard_scaler = joblib.load(\"standard_scaler_treinamento.pkl\")"
   ]
  },
  {
   "cell_type": "markdown",
   "metadata": {},
   "source": [
    "### 4.1 Aplicação OneHot Encoder"
   ]
  },
  {
   "cell_type": "code",
   "execution_count": 21,
   "metadata": {},
   "outputs": [],
   "source": [
    "colunas_categoricas = [\"Q001\", \"Q002\", \"Q003\", \"Q004\", \"Q007\"]\n",
    "\n",
    "# Aplicação no Conjunto de Validação\n",
    "X_validation_encoded = onehot.transform(X_validation[colunas_categoricas])\n",
    "X_validation_encoded = pd.DataFrame(X_validation_encoded, columns=onehot.get_feature_names_out(colunas_categoricas), index=X_validation.index)\n",
    "# Remover as colunas originais e adicionar as transformadas\n",
    "X_validation = X_validation.drop(columns=colunas_categoricas)\n",
    "X_validation = pd.concat([X_validation, X_validation_encoded], axis=1)\n",
    "\n",
    "# Aplicação no Conjunto de Teste\n",
    "X_test_encoded = onehot.transform(X_test[colunas_categoricas])\n",
    "X_test_encoded = pd.DataFrame(X_test_encoded, columns=onehot.get_feature_names_out(colunas_categoricas), index=X_test.index)\n",
    "# Remover as colunas originais e adicionar as transformadas\n",
    "X_test = X_test.drop(columns=colunas_categoricas)\n",
    "X_test = pd.concat([X_test, X_test_encoded], axis=1)"
   ]
  },
  {
   "cell_type": "markdown",
   "metadata": {},
   "source": [
    "### 4.2 Aplicação do Target Enconding"
   ]
  },
  {
   "cell_type": "code",
   "execution_count": 22,
   "metadata": {},
   "outputs": [],
   "source": [
    "# Aplicação no Conjunto de Validação\n",
    "X_validation[\"Q006\"] = X_validation[\"Q006\"].map(target_encoder.encoder_dict_[\"Q006\"])\n",
    "X_validation[\"Q006\"] = X_validation[\"Q006\"].astype(float)\n",
    "\n",
    "# Aplicação no Conjunto de Teste\n",
    "X_test[\"Q006\"] = X_test[\"Q006\"].map(target_encoder.encoder_dict_[\"Q006\"])\n",
    "X_test[\"Q006\"] = X_test[\"Q006\"].astype(float)"
   ]
  },
  {
   "cell_type": "markdown",
   "metadata": {},
   "source": [
    "### 4.3 Aplicação do Standard Scaler"
   ]
  },
  {
   "cell_type": "code",
   "execution_count": 23,
   "metadata": {},
   "outputs": [],
   "source": [
    "# Aplicando a transformação no conjunto de validação\n",
    "X_validation_scaled = scaler.transform(X_validation)\n",
    "# Convertendo de volta para DataFrame, se necessário\n",
    "X_validation = pd.DataFrame(X_validation_scaled, columns=X_validation.columns, index=X_validation.index)\n",
    "\n",
    "# Aplicando a transformação no conjunto de teste\n",
    "X_test_scaled = scaler.transform(X_test)\n",
    "# Convertendo de volta para DataFrame, se necessário\n",
    "X_test = pd.DataFrame(X_test_scaled, columns=X_test.columns, index=X_test.index)"
   ]
  },
  {
   "cell_type": "markdown",
   "metadata": {},
   "source": [
    "## 5. Treinamento de modelos de árvores de decisão para regressão\n",
    "- Decision Tree Regressor\n",
    "- Random Forest Regressor\n",
    "- XGBoost Regressor\n",
    "- Gradient Boosting Regressor\n",
    "- ExtraTree Regressor\n",
    "- HistGradientBoosting Regressor"
   ]
  },
  {
   "cell_type": "code",
   "execution_count": 24,
   "metadata": {},
   "outputs": [
    {
     "name": "stdout",
     "output_type": "stream",
     "text": [
      "Treinando DecisionTree...\n",
      "DecisionTree treinado com sucesso!\n",
      "DecisionTree salvo como DecisionTree.pkl\n",
      "\n",
      "Treinando RandomForest...\n",
      "RandomForest treinado com sucesso!\n",
      "RandomForest salvo como RandomForest.pkl\n",
      "\n",
      "Treinando XGBoost...\n",
      "XGBoost treinado com sucesso!\n",
      "XGBoost salvo como XGBoost.pkl\n",
      "\n",
      "Treinando GradientBoosting...\n",
      "GradientBoosting treinado com sucesso!\n",
      "GradientBoosting salvo como GradientBoosting.pkl\n",
      "\n",
      "Treinando ExtraTrees...\n",
      "ExtraTrees treinado com sucesso!\n",
      "ExtraTrees salvo como ExtraTrees.pkl\n",
      "\n",
      "Treinando HistGradientBoosting...\n",
      "HistGradientBoosting treinado com sucesso!\n",
      "HistGradientBoosting salvo como HistGradientBoosting.pkl\n",
      "\n"
     ]
    }
   ],
   "source": [
    "# Definindo os modelos de árvore para regressão\n",
    "modelos_arvore = {\n",
    "    \"DecisionTree\": DecisionTreeRegressor(max_depth=5, random_state=42),\n",
    "    \"RandomForest\": RandomForestRegressor(n_estimators=100, max_depth=5, random_state=42),\n",
    "    \"XGBoost\": xgb.XGBRegressor(objective=\"reg:squarederror\", learning_rate=0.1, n_estimators=100, max_depth=3, random_state=42),\n",
    "    \"GradientBoosting\": GradientBoostingRegressor(n_estimators=100, learning_rate=0.1, max_depth=3, random_state=42),\n",
    "    \"ExtraTrees\": ExtraTreesRegressor(n_estimators=100, max_depth=5, random_state=42),\n",
    "    \"HistGradientBoosting\": HistGradientBoostingRegressor(max_iter=100, learning_rate=0.1, max_depth=3, random_state=42)\n",
    "}\n",
    "\n",
    "# Treinando e salvando os modelos\n",
    "for nome, modelo in modelos_arvore.items():\n",
    "    print(f\"Treinando {nome}...\")\n",
    "    modelo.fit(X_train_scaled, y_train)\n",
    "    print(f\"{nome} treinado com sucesso!\")\n",
    "\n",
    "    # Salvando o modelo treinado\n",
    "    joblib.dump(modelo, f\"{nome}.pkl\")\n",
    "    print(f\"{nome} salvo como {nome}.pkl\\n\")"
   ]
  },
  {
   "cell_type": "markdown",
   "metadata": {},
   "source": [
    "### 5.1 Predição no conjunto de Teste\n",
    "\n",
    "Predição dos modelos baseline no conjunto de teste para verificar quais modelos tiveram um aprendizado melhor."
   ]
  },
  {
   "cell_type": "code",
   "execution_count": 25,
   "metadata": {},
   "outputs": [
    {
     "name": "stdout",
     "output_type": "stream",
     "text": [
      "                            R²       RMSE        MAE\n",
      "GradientBoosting      0.353464  70.898791  55.988320\n",
      "XGBoost               0.353260  70.909962  56.005655\n",
      "HistGradientBoosting  0.353171  70.914855  55.958966\n",
      "RandomForest          0.311974  73.138298  57.895482\n",
      "ExtraTrees            0.301881  73.672811  58.285584\n",
      "DecisionTree          0.300239  73.759429  58.395690\n"
     ]
    }
   ],
   "source": [
    "# Criando um dicionário para armazenar os resultados\n",
    "resultados = {}\n",
    "\n",
    "# Loop para avaliar cada modelo\n",
    "for nome in [\"DecisionTree\", \"RandomForest\", \"XGBoost\", \"GradientBoosting\", \"ExtraTrees\", \"HistGradientBoosting\"]:\n",
    "    # Carregar o modelo salvo\n",
    "    modelo = joblib.load(f\"{nome}.pkl\")\n",
    "\n",
    "    # Fazer previsões no conjunto de teste\n",
    "    y_pred = modelo.predict(X_test_scaled)\n",
    "\n",
    "    # Calcular métricas\n",
    "    r2 = r2_score(y_test, y_pred)\n",
    "    rmse = np.sqrt(mean_squared_error(y_test, y_pred))\n",
    "    mae = mean_absolute_error(y_test, y_pred)\n",
    "\n",
    "    # Salvar os resultados\n",
    "    resultados[nome] = {\"R²\": r2, \"RMSE\": rmse, \"MAE\": mae}\n",
    "\n",
    "# Exibir os resultados\n",
    "df_resultados = pd.DataFrame(resultados).T\n",
    "print(df_resultados.sort_values(by=\"R²\", ascending=False))"
   ]
  },
  {
   "cell_type": "markdown",
   "metadata": {},
   "source": [
    "Os modelos de Gradient Boosting tiveram uma performance melhor, iremos otimizar os parâmetros do **Gradient Boosting e do XGBoost** utilizando o conjunto de validação."
   ]
  },
  {
   "cell_type": "markdown",
   "metadata": {},
   "source": [
    "## 6. Otimização de Hiperparâmetros"
   ]
  },
  {
   "cell_type": "code",
   "execution_count": 26,
   "metadata": {},
   "outputs": [
    {
     "name": "stdout",
     "output_type": "stream",
     "text": [
      "Modelos carregados com sucesso!\n",
      "GradientBoosting: <class 'sklearn.ensemble._gb.GradientBoostingRegressor'>\n",
      "XGBoost: <class 'xgboost.sklearn.XGBRegressor'>\n"
     ]
    }
   ],
   "source": [
    "# Carregar o modelo Gradient Boosting\n",
    "gradientboosting_baseline = joblib.load(\"GradientBoosting.pkl\")\n",
    "\n",
    "# Carregar o modelo XGBoost\n",
    "xgboost_baseline = joblib.load(\"XGBoost.pkl\")\n",
    "\n",
    "# Verificar se os modelos foram carregados corretamente\n",
    "print(\"Modelos carregados com sucesso!\")\n",
    "print(\"GradientBoosting:\", type(gradientboosting_baseline))\n",
    "print(\"XGBoost:\", type(xgboost_baseline))"
   ]
  },
  {
   "cell_type": "markdown",
   "metadata": {},
   "source": [
    "### 6.1 Randomized Search"
   ]
  },
  {
   "cell_type": "code",
   "execution_count": 27,
   "metadata": {},
   "outputs": [
    {
     "name": "stdout",
     "output_type": "stream",
     "text": [
      "Otimização GradientBoosting...\n",
      "Fitting 10 folds for each of 10 candidates, totalling 100 fits\n",
      "Otimização XGBoost...\n",
      "Fitting 10 folds for each of 10 candidates, totalling 100 fits\n",
      "Melhores parâmetros GradientBoosting: {'subsample': 0.7, 'n_estimators': 300, 'max_depth': 3, 'learning_rate': 0.05}\n",
      "Melhores parâmetros XGBoost: {'subsample': 1.0, 'n_estimators': 300, 'max_depth': 3, 'learning_rate': 0.05, 'colsample_bytree': 0.8}\n"
     ]
    }
   ],
   "source": [
    "# Definindo hiperparâmetros para busca\n",
    "param_grid_gb = {\n",
    "    \"n_estimators\": [100, 300, 500],\n",
    "    \"learning_rate\": [0.01, 0.05, 0.1],\n",
    "    \"max_depth\": [3, 5, 7],\n",
    "    \"subsample\": [0.7, 0.8, 1.0]\n",
    "}\n",
    "\n",
    "param_grid_xgb = {\n",
    "    \"n_estimators\": [100, 300, 500],\n",
    "    \"learning_rate\": [0.01, 0.05, 0.1],\n",
    "    \"max_depth\": [3, 5, 7],\n",
    "    \"colsample_bytree\": [0.7, 0.8, 1.0],\n",
    "    \"subsample\": [0.7, 0.8, 1.0]\n",
    "}\n",
    "\n",
    "\n",
    "# Randomized Search para GradientBoosting\n",
    "random_search_gb = RandomizedSearchCV(\n",
    "    estimator=gradientboosting_baseline, \n",
    "    param_distributions=param_grid_gb,\n",
    "    n_iter=10, \n",
    "    scoring=\"neg_root_mean_squared_error\",  # Otimizando RMSE\n",
    "    cv=10, \n",
    "    verbose=1, \n",
    "    random_state=42, \n",
    "    n_jobs=-1\n",
    ")\n",
    "\n",
    "# Randomized Search para XGBoost\n",
    "random_search_xgb = RandomizedSearchCV(\n",
    "    estimator=xgboost_baseline, \n",
    "    param_distributions=param_grid_xgb,\n",
    "    n_iter=10, \n",
    "    scoring=\"neg_root_mean_squared_error\",  # Otimizando RMSE\n",
    "    cv=10, \n",
    "    verbose=1, \n",
    "    random_state=42, \n",
    "    n_jobs=-1\n",
    ")\n",
    "\n",
    "# Rodando a otimização com o conjunto de validação\n",
    "print(\"Otimização GradientBoosting...\")\n",
    "random_search_gb.fit(X_validation_scaled, y_validation)\n",
    "\n",
    "print(\"Otimização XGBoost...\")\n",
    "random_search_xgb.fit(X_validation_scaled, y_validation)\n",
    "\n",
    "# Melhores parâmetros encontrados\n",
    "print(\"Melhores parâmetros GradientBoosting:\", random_search_gb.best_params_)\n",
    "print(\"Melhores parâmetros XGBoost:\", random_search_xgb.best_params_)"
   ]
  },
  {
   "cell_type": "markdown",
   "metadata": {},
   "source": [
    "### 6.2 Atualizando os parâmetros dos Modelos"
   ]
  },
  {
   "cell_type": "code",
   "execution_count": 28,
   "metadata": {},
   "outputs": [],
   "source": [
    "# Obter o melhor modelo após a otimização\n",
    "xgboost_otimizado_rs = random_search_xgb.best_estimator_\n",
    "gradientboosting_otimizado_rs = random_search_gb.best_estimator_"
   ]
  },
  {
   "cell_type": "markdown",
   "metadata": {},
   "source": [
    "### 6.3 Treinamento dos Modelos com os novos hiperparâmetros"
   ]
  },
  {
   "cell_type": "code",
   "execution_count": 29,
   "metadata": {},
   "outputs": [],
   "source": [
    "#Treinamento do XGBoost\n",
    "xgboost_otimizado_rs = xgboost_otimizado_rs.fit(X_train_scaled, y_train)"
   ]
  },
  {
   "cell_type": "code",
   "execution_count": 30,
   "metadata": {},
   "outputs": [],
   "source": [
    "#Treinamento do Gradient Boosting\n",
    "gradientboosting_otimizado_rs = gradientboosting_otimizado_rs.fit(X_train_scaled,y_train)"
   ]
  },
  {
   "cell_type": "markdown",
   "metadata": {},
   "source": [
    "### 6.4 Predições no Conjunto de Teste após Otimização com RandomSearch"
   ]
  },
  {
   "cell_type": "code",
   "execution_count": 31,
   "metadata": {},
   "outputs": [
    {
     "name": "stdout",
     "output_type": "stream",
     "text": [
      "XGBoost_otimizado:\n",
      "  R²: 0.3589\n",
      "  RMSE: 70.6011\n",
      "  MAE: 55.7091\n",
      "\n",
      "GradientBoosting_otimizado:\n",
      "  R²: 0.3588\n",
      "  RMSE: 70.6080\n",
      "  MAE: 55.7165\n",
      "\n"
     ]
    }
   ],
   "source": [
    "# Avaliar modelos otimizados\n",
    "# XGBoost Otimizado\n",
    "y_pred_xgboost_otimizado = xgboost_otimizado_rs.predict(X_test_scaled)\n",
    "r2_xgboost = r2_score(y_test, y_pred_xgboost_otimizado)\n",
    "rmse_xgboost = np.sqrt(mean_squared_error(y_test, y_pred_xgboost_otimizado))\n",
    "mae_xgboost = mean_absolute_error(y_test, y_pred_xgboost_otimizado)\n",
    "\n",
    "print(\"XGBoost_otimizado:\")\n",
    "print(f\"  R²: {r2_xgboost:.4f}\")\n",
    "print(f\"  RMSE: {rmse_xgboost:.4f}\")\n",
    "print(f\"  MAE: {mae_xgboost:.4f}\\n\")\n",
    "\n",
    "# Gradient Boosting Otimizado\n",
    "y_pred_gradientboosting_otimizado = gradientboosting_otimizado_rs.predict(X_test_scaled)\n",
    "r2_gradientboosting = r2_score(y_test, y_pred_gradientboosting_otimizado)\n",
    "rmse_gradientboosting = np.sqrt(mean_squared_error(y_test, y_pred_gradientboosting_otimizado))\n",
    "mae_gradientboosting = mean_absolute_error(y_test, y_pred_gradientboosting_otimizado)\n",
    "\n",
    "print(\"GradientBoosting_otimizado:\")\n",
    "print(f\"  R²: {r2_gradientboosting:.4f}\")\n",
    "print(f\"  RMSE: {rmse_gradientboosting:.4f}\")\n",
    "print(f\"  MAE: {mae_gradientboosting:.4f}\\n\")"
   ]
  },
  {
   "cell_type": "markdown",
   "metadata": {},
   "source": [
    "O XGBoost otimizado teve performance melhor do que o mesmo com os parâmetros 'default' (modelo baseline). E também teve performance melhor do que o Gradient Boosting."
   ]
  },
  {
   "cell_type": "markdown",
   "metadata": {},
   "source": [
    "### 6.5 HyperOpt"
   ]
  },
  {
   "cell_type": "code",
   "execution_count": 32,
   "metadata": {},
   "outputs": [
    {
     "name": "stdout",
     "output_type": "stream",
     "text": [
      "Otimização GradientBoosting com Hyperopt...\n",
      "100%|██████████| 10/10 [06:01<00:00, 36.19s/trial, best loss: 70.99955861908937]\n",
      "Otimização XGBoost com Hyperopt...\n",
      "100%|██████████| 10/10 [00:12<00:00,  1.22s/trial, best loss: 70.97413764622772]\n",
      "Melhores parâmetros para GradientBoosting: {'alpha': np.float64(0.9231215345549844), 'learning_rate': np.float64(0.17281179396212037), 'max_depth': np.float64(6.0), 'max_features': np.float64(0.6683751818487224), 'min_samples_leaf': np.float64(11.0), 'min_samples_split': np.float64(5.0), 'n_estimators': np.float64(150.0), 'subsample': np.float64(0.5825314974042867)}\n",
      "Melhores parâmetros para XGBoost: {'alpha': np.float64(0.36139709529468866), 'colsample_bytree': np.float64(0.9918397038051612), 'gamma': np.float64(0.29664756977803525), 'lambda': np.float64(0.6320479005574201), 'learning_rate': np.float64(0.023593162806618016), 'max_depth': np.float64(6.0), 'min_child_weight': np.float64(15.0), 'n_estimators': np.float64(300.0), 'scale_pos_weight': np.float64(3.8460249903986083), 'subsample': np.float64(0.7280597480987141)}\n"
     ]
    }
   ],
   "source": [
    "# Definindo o espaço de hiperparâmetros para GradientBoosting\n",
    "param_space_gb = {\n",
    "    \"n_estimators\": hp.quniform('n_estimators', 100, 700, 50),  # Valores discretos: 100, 300, 500\n",
    "    \"learning_rate\": hp.uniform('learning_rate', 0.01, 0.2),  # Valores contínuos entre 0.01 e 0.1\n",
    "    \"max_depth\": hp.quniform('max_depth', 3, 8, 1),  # Valores discretos: 3, 4, 5, 6, 7\n",
    "    \"subsample\": hp.uniform('subsample', 0.5, 1.0),  # Valores contínuos entre 0.7 e 1.0\n",
    "    \"min_samples_split\": hp.quniform('min_samples_split', 2, 15, 1),  # Número de amostras para dividir um nó\n",
    "    \"min_samples_leaf\": hp.quniform('min_samples_leaf', 1, 20, 1),  # Número de amostras para uma folha\n",
    "    \"max_features\": hp.uniform('max_features', 0.1, 1.0),  # Proporção de features a serem usadas em cada split\n",
    "    \"alpha\": hp.uniform('alpha', 0.8, 1.0)  # Regularização para perda quantil (se 'loss' for 'lad')\n",
    "}\n",
    "\n",
    "# Definindo o espaço de hiperparâmetros para XGBoost\n",
    "param_space_xgb = {\n",
    "    \"n_estimators\": hp.quniform('n_estimators', 100, 700, 50),  # Valores discretos: 100, 200, 300, 400, 500\n",
    "    \"learning_rate\": hp.uniform('learning_rate', 0.01, 0.2),  # Valores contínuos entre 0.01 e 0.1\n",
    "    \"max_depth\": hp.quniform('max_depth', 3, 8, 1),  # Profundidade das árvores, variando entre 3 e 10\n",
    "    \"subsample\": hp.uniform('subsample', 0.5, 1.0),  # Fração de amostras a ser utilizada em cada árvore\n",
    "    \"colsample_bytree\": hp.uniform('colsample_bytree', 0.7, 1.0),  # Fração de features a ser utilizada por árvore\n",
    "    \"min_child_weight\": hp.quniform('min_child_weight', 1, 15, 1),  # Peso mínimo de amostras em uma folha\n",
    "    \"gamma\": hp.uniform('gamma', 0, 0.5),  # Penalidade de complexidade para controle de overfitting\n",
    "    \"lambda\": hp.uniform('lambda', 0, 1),  # Regularização L2\n",
    "    \"alpha\": hp.uniform('alpha', 0, 1),  # Regularização L1\n",
    "    \"scale_pos_weight\": hp.uniform('scale_pos_weight', 1, 10),  # Ajuste de peso para classes desbalanceadas\n",
    "}\n",
    "\n",
    "\n",
    "# Função de avaliação para o GradientBoosting\n",
    "def objective_gb(params):\n",
    "    # Avaliação com Cross-Validation (10-fold CV)\n",
    "    rmse_scores = -cross_val_score(gradientboosting_baseline, X_validation_scaled, y_validation, scoring=\"neg_root_mean_squared_error\", cv=10)\n",
    "    return rmse_scores.mean()\n",
    "\n",
    "# Função de avaliação para o XGBoost\n",
    "def objective_xgb(params):\n",
    "    # Avaliação com Cross-Validation (10-fold CV)\n",
    "    rmse_scores = -cross_val_score(xgboost_baseline, X_validation_scaled, y_validation, scoring=\"neg_root_mean_squared_error\", cv=10)\n",
    "    return rmse_scores.mean()\n",
    "\n",
    "# Criando um objeto Trials para armazenar os resultados da busca\n",
    "trials_gb = Trials()\n",
    "trials_xgb = Trials()\n",
    "\n",
    "# Rodando a otimização para GradientBoosting\n",
    "print(\"Otimização GradientBoosting com Hyperopt...\")\n",
    "best_gb = fmin(fn=objective_gb, space=param_space_gb, algo=tpe.suggest, max_evals=10, trials=trials_gb)\n",
    "\n",
    "# Rodando a otimização para XGBoost\n",
    "print(\"Otimização XGBoost com Hyperopt...\")\n",
    "best_xgb = fmin(fn=objective_xgb, space=param_space_xgb, algo=tpe.suggest, max_evals=10, trials=trials_xgb)\n",
    "\n",
    "# Exibindo os melhores parâmetros encontrados\n",
    "print(\"Melhores parâmetros para GradientBoosting:\", best_gb)\n",
    "print(\"Melhores parâmetros para XGBoost:\", best_xgb)"
   ]
  },
  {
   "cell_type": "markdown",
   "metadata": {},
   "source": [
    "### 6.6 Treinamento com os parâmetros encontrados pelo HyperOpt"
   ]
  },
  {
   "cell_type": "code",
   "execution_count": 33,
   "metadata": {},
   "outputs": [
    {
     "name": "stdout",
     "output_type": "stream",
     "text": [
      "Modelo GradientBoosting otimizado treinado com sucesso!\n",
      "Modelo XGBoost otimizado treinado com sucesso!\n"
     ]
    }
   ],
   "source": [
    "# Atualizando o modelo GradientBoosting com os melhores parâmetros encontrados\n",
    "best_params_gb = best_gb  # Parâmetros otimizados do Hyperopt para o GradientBoosting\n",
    "\n",
    "# Garantindo que os parâmetros são do tipo correto (inteiros para parâmetros discretos e floats para contínuos)\n",
    "gradientboosting_otimizado_hyperopt = GradientBoostingRegressor(\n",
    "    n_estimators=int(best_params_gb['n_estimators']),  # Garantir que seja um inteiro\n",
    "    learning_rate=best_params_gb['learning_rate'],\n",
    "    max_depth=int(best_params_gb['max_depth']),  # Garantir que seja um inteiro\n",
    "    subsample=best_params_gb['subsample'],\n",
    "    min_samples_split=int(best_params_gb['min_samples_split']),  # Garantir que seja um inteiro\n",
    "    min_samples_leaf=int(best_params_gb['min_samples_leaf']),  # Garantir que seja um inteiro\n",
    "    max_features=best_params_gb['max_features'],\n",
    "    alpha=best_params_gb['alpha'],\n",
    "    random_state=42\n",
    ")\n",
    "\n",
    "# Treinando o modelo GradientBoosting com os melhores parâmetros\n",
    "gradientboosting_otimizado_hyperopt.fit(X_train_scaled, y_train)\n",
    "\n",
    "print(\"Modelo GradientBoosting otimizado treinado com sucesso!\")\n",
    "\n",
    "# Atualizando o modelo XGBoost com os melhores parâmetros encontrados\n",
    "best_params_xgb = best_xgb  # Parâmetros otimizados do Hyperopt para o XGBoost\n",
    "\n",
    "# Garantindo que os parâmetros são do tipo correto (inteiros para parâmetros discretos e floats para contínuos)\n",
    "xgboost_otimizado_hyperopt = xgb.XGBRegressor(\n",
    "    n_estimators=int(best_params_xgb['n_estimators']),  # Garantir que seja um inteiro\n",
    "    learning_rate=best_params_xgb['learning_rate'],\n",
    "    max_depth=int(best_params_xgb['max_depth']),  # Garantir que seja um inteiro\n",
    "    subsample=best_params_xgb['subsample'],\n",
    "    colsample_bytree=best_params_xgb['colsample_bytree'],\n",
    "    min_child_weight=int(best_params_xgb['min_child_weight']),  # Garantir que seja um inteiro\n",
    "    gamma=best_params_xgb['gamma'],\n",
    "    lambda_=best_params_xgb['lambda'],  # L2 regularization\n",
    "    alpha=best_params_xgb['alpha'],  # L1 regularization\n",
    "    scale_pos_weight=best_params_xgb['scale_pos_weight'],\n",
    "\n",
    "    random_state=42\n",
    ")\n",
    "\n",
    "# Treinando o modelo XGBoost com os melhores parâmetros\n",
    "xgboost_otimizado_hyperopt.fit(X_train_scaled, y_train)\n",
    "\n",
    "print(\"Modelo XGBoost otimizado treinado com sucesso!\")"
   ]
  },
  {
   "cell_type": "markdown",
   "metadata": {},
   "source": [
    "### 6.7 Predição no Conjunto de Teste após otimização com HyperOpt"
   ]
  },
  {
   "cell_type": "code",
   "execution_count": 34,
   "metadata": {},
   "outputs": [
    {
     "name": "stdout",
     "output_type": "stream",
     "text": [
      "XGBoost Otimizado HyperOpt:\n",
      "  R²: 0.3651\n",
      "  RMSE: 70.2576\n",
      "  MAE: 55.3921\n",
      "\n",
      "GradientBoosting otimizado HyperOpt:\n",
      "  R²: 0.3579\n",
      "  RMSE: 70.6575\n",
      "  MAE: 55.6755\n",
      "\n"
     ]
    }
   ],
   "source": [
    "# Avaliar modelos otimizados\n",
    "# XGBoost Otimizado\n",
    "y_pred_xgboost_otimizado = xgboost_otimizado_hyperopt.predict(X_test_scaled)\n",
    "r2_xgboost = r2_score(y_test, y_pred_xgboost_otimizado)\n",
    "rmse_xgboost = np.sqrt(mean_squared_error(y_test, y_pred_xgboost_otimizado))\n",
    "mae_xgboost = mean_absolute_error(y_test, y_pred_xgboost_otimizado)\n",
    "\n",
    "print(\"XGBoost Otimizado HyperOpt:\")\n",
    "print(f\"  R²: {r2_xgboost:.4f}\")\n",
    "print(f\"  RMSE: {rmse_xgboost:.4f}\")\n",
    "print(f\"  MAE: {mae_xgboost:.4f}\\n\")\n",
    "\n",
    "# Gradient Boosting Otimizado\n",
    "y_pred_gradientboosting_otimizado = gradientboosting_otimizado_hyperopt.predict(X_test_scaled)\n",
    "r2_gradientboosting = r2_score(y_test, y_pred_gradientboosting_otimizado)\n",
    "rmse_gradientboosting = np.sqrt(mean_squared_error(y_test, y_pred_gradientboosting_otimizado))\n",
    "mae_gradientboosting = mean_absolute_error(y_test, y_pred_gradientboosting_otimizado)\n",
    "\n",
    "print(\"GradientBoosting otimizado HyperOpt:\")\n",
    "print(f\"  R²: {r2_gradientboosting:.4f}\")\n",
    "print(f\"  RMSE: {rmse_gradientboosting:.4f}\")\n",
    "print(f\"  MAE: {mae_gradientboosting:.4f}\\n\")"
   ]
  },
  {
   "cell_type": "markdown",
   "metadata": {},
   "source": [
    "## 7. Salvando o Modelo que teve melhor performance após otimização\n",
    "\n",
    "- XGBoost com otimização utilizando HyperOpt"
   ]
  },
  {
   "cell_type": "code",
   "execution_count": 35,
   "metadata": {},
   "outputs": [
    {
     "name": "stdout",
     "output_type": "stream",
     "text": [
      "Modelo XGBoost otimizado salvo com sucesso!\n"
     ]
    }
   ],
   "source": [
    "# Salvando o modelo XGBoost otimizado\n",
    "joblib.dump(xgboost_otimizado_hyperopt, 'xgboost_otimizado_hyperopt.pkl')\n",
    "\n",
    "print(\"Modelo XGBoost otimizado salvo com sucesso!\")"
   ]
  },
  {
   "cell_type": "markdown",
   "metadata": {},
   "source": [
    "## 8. **`Boruta`** para seleção de variáveis após Modelagem"
   ]
  },
  {
   "cell_type": "code",
   "execution_count": 36,
   "metadata": {},
   "outputs": [
    {
     "name": "stdout",
     "output_type": "stream",
     "text": [
      "Características selecionadas pelo Boruta:\n",
      "Index(['TP_FAIXA_ETARIA', 'TP_ESTADO_CIVIL', 'TP_NACIONALIDADE',\n",
      "       'TP_ST_CONCLUSAO', 'TP_ANO_CONCLUIU', 'TP_ESCOLA', 'TP_LINGUA', 'Q005',\n",
      "       'Q006', 'Q008', 'Q011', 'Q012', 'Q013', 'Q015', 'Q018', 'Q021', 'Q022',\n",
      "       'Q024', 'Q025', 'Q001_B', 'Q001_D', 'Q001_E', 'Q001_F', 'Q001_G',\n",
      "       'Q001_H', 'Q002_B', 'Q002_D', 'Q002_E', 'Q002_F', 'Q002_G', 'Q002_H',\n",
      "       'Q003_C', 'Q003_D', 'Q003_E', 'Q003_F', 'Q004_B', 'Q004_D', 'Q004_E',\n",
      "       'Q004_F', 'Q007_B', 'Q007_D'],\n",
      "      dtype='object')\n"
     ]
    }
   ],
   "source": [
    "# Aplicando Boruta para seleção de características\n",
    "boruta = BorutaPy(xgboost_otimizado_hyperopt, n_estimators='auto', random_state=42)\n",
    "boruta.fit(X_train_scaled.values, y_train.values)\n",
    "\n",
    "# Exibindo as variáveis selecionadas\n",
    "print(\"Características selecionadas pelo Boruta:\")\n",
    "selected_features = X_train_scaled.columns[boruta.support_]\n",
    "print(selected_features)"
   ]
  },
  {
   "cell_type": "markdown",
   "metadata": {},
   "source": [
    "## 9. Treinando o **`Modelo Final`** com as variáveis selecionadas"
   ]
  },
  {
   "cell_type": "code",
   "execution_count": 37,
   "metadata": {},
   "outputs": [
    {
     "name": "stdout",
     "output_type": "stream",
     "text": [
      "XGBoost Otimizado Boruta:\n",
      "  R²: 0.3574\n",
      "  RMSE: 70.6847\n",
      "  MAE: 55.8156\n",
      "\n"
     ]
    }
   ],
   "source": [
    "# Filtrando os datasets de treino e teste com as variáveis selecionadas\n",
    "X_train_boruta = X_train_scaled[selected_features]\n",
    "X_test_boruta = X_test[selected_features]\n",
    "\n",
    "# Treinando o modelo com as features selecionadas\n",
    "xgboost_boruta = xgboost_otimizado_hyperopt.fit(X_train_boruta, y_train)\n",
    "\n",
    "# Fazendo predições\n",
    "y_pred_boruta = xgboost_boruta.predict(X_test_boruta)\n",
    "r2_xgboost = r2_score(y_test, y_pred_boruta)\n",
    "rmse_xgboost = np.sqrt(mean_squared_error(y_test, y_pred_boruta))\n",
    "mae_xgboost = mean_absolute_error(y_test, y_pred_boruta)\n",
    "\n",
    "print(\"XGBoost Otimizado Boruta:\")\n",
    "print(f\"  R²: {r2_xgboost:.4f}\")\n",
    "print(f\"  RMSE: {rmse_xgboost:.4f}\")\n",
    "print(f\"  MAE: {mae_xgboost:.4f}\\n\")"
   ]
  },
  {
   "cell_type": "markdown",
   "metadata": {},
   "source": [
    "### 9.1 Salvando Modelo Final"
   ]
  },
  {
   "cell_type": "code",
   "execution_count": 38,
   "metadata": {},
   "outputs": [
    {
     "name": "stdout",
     "output_type": "stream",
     "text": [
      "Modelo XGBoost Final salvo com sucesso!\n"
     ]
    }
   ],
   "source": [
    "# Salvando o modelo XGBoost otimizado\n",
    "joblib.dump(xgboost_boruta, 'xgboost_boruta_final.pkl')\n",
    "\n",
    "print(\"Modelo XGBoost Final salvo com sucesso!\")"
   ]
  },
  {
   "cell_type": "markdown",
   "metadata": {},
   "source": [
    "## 10. SHAP Values\n",
    "\n",
    "SHAP (SHapley Additive Explanations) é um método baseado na teoria dos valores de Shapley, utilizado para interpretar modelos de Machine Learning. Ele quantifica a contribuição de cada variável para a predição, ajudando a entender como cada feature influencia o resultado do modelo.\n",
    "\n",
    "Os SHAP values permitem explicar tanto predições individuais quanto o comportamento geral do modelo, tornando-se uma ferramenta essencial para interpretabilidade em modelos complexos, como Gradient Boosting e redes neurais."
   ]
  },
  {
   "cell_type": "code",
   "execution_count": 39,
   "metadata": {},
   "outputs": [
    {
     "name": "stderr",
     "output_type": "stream",
     "text": [
      "100%|===================| 16497/16535 [03:19<00:00]        "
     ]
    },
    {
     "data": {
      "image/png": "[encoded data removed]",
      "text/plain": [
       "<Figure size 800x950 with 2 Axes>"
      ]
     },
     "metadata": {},
     "output_type": "display_data"
    }
   ],
   "source": [
    "# Criando o objeto Explainer com base no modelo treinado\n",
    "explainer = shap.Explainer(xgboost_boruta, X_train_boruta)\n",
    "\n",
    "# Calculando os valores SHAP para o conjunto de teste\n",
    "shap_values = explainer(X_test_boruta)\n",
    "\n",
    "# Plotando o gráfico de importância das features\n",
    "shap.summary_plot(shap_values, X_test_boruta)"
   ]
  },
  {
   "cell_type": "markdown",
   "metadata": {},
   "source": [
    "- TP_LINGUA - Valores baixos (0 = Espanhol) aumentam o valor da predição.\n",
    "- Q006 (Renda Mensal da Família - variável que foi realizado o Target Enconding), logo valores mais altos dessa variável tem como propriedade a nota média do desfecho para aquela categoria.\n",
    "- Q024 (Quantidade de computadores em casa) - Valores mais altos aumentam o valor da predição.\n",
    "- TP_FAIXA_ETARIA - Valores mais altos (pessoas mais velhas) - diminuem o valor da predição.\n",
    "- TP_ESCOLA (3 = Privada) - Valores mais altos aumentam o valor da predição.\n",
    "- Q003_D (Grupo 4 - Pai Professor, Gerente, MicroEmpresário) - aumentam o valor da predição."
   ]
  }
 ],
 "metadata": {
  "kernelspec": {
   "display_name": "Python 3",
   "language": "python",
   "name": "python3"
  },
  "language_info": {
   "codemirror_mode": {
    "name": "ipython",
    "version": 3
   },
   "file_extension": ".py",
   "mimetype": "text/x-python",
   "name": "python",
   "nbconvert_exporter": "python",
   "pygments_lexer": "ipython3",
   "version": "3.13.0"
  }
 },
 "nbformat": 4,
 "nbformat_minor": 2
}
